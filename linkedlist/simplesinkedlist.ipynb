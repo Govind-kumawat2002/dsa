{
 "cells": [
  {
   "cell_type": "markdown",
   "metadata": {},
   "source": [
    "A Linked List is a data structure in which elements (called nodes) are arranged linearly, but unlike arrays, they are not stored in contiguous memory locations. Each node in a linked list contains two parts:\n",
    "\n",
    "Data: The actual data the node holds.\n",
    "Pointer (or Reference): A reference to the next node in the sequence.\n",
    "There are several types of linked lists:\n",
    "\n",
    "1. Singly Linked List\n",
    "In this type, each node contains:\n",
    "\n",
    "Data\n",
    "A pointer to the next node.\n",
    "The last node's pointer is set to null or None to signify the end of the list.\n",
    "Structure:\n",
    "[data|next] -> [data|next] -> [data|None]\n",
    "\n",
    "2. Doubly Linked List\n",
    "Each node contains:\n",
    "\n",
    "Data\n",
    "A pointer to the next node\n",
    "A pointer to the previous node.\n",
    "This structure allows traversal in both directions (forward and backward).\n",
    "Structure:\n",
    "[None|data|next] <-> [prev|data|next] <-> [prev|data|None]\n",
    "\n",
    "3. Circular Linked List\n",
    "In a circular linked list:\n",
    "\n",
    "The last node points back to the first node, creating a loop.\n",
    "It can be singly or doubly circular.\n",
    "Structure (Singly Circular):\n",
    "[data|next] -> [data|next] -> [data|next] -> back to first node\n",
    "\n",
    "Advantages of Linked Lists\n",
    "Dynamic Size: Unlike arrays, the size of a linked list can grow or shrink dynamically without reallocation.\n",
    "Efficient Insertions/Deletions: Adding or removing elements does not require shifting elements, as in arrays.\n",
    "No Fixed Memory Allocation: Linked lists don't need to know their size in advance.\n",
    "Disadvantages of Linked Lists\n",
    "Extra Memory Overhead: Every node requires additional memory for the pointer(s).\n",
    "Sequential Access: Accessing elements requires traversal from the head, making it slower than arrays for direct access.\n",
    "Cache Performance: Due to scattered memory locations, they are less cache-friendly compared to arrays.\n",
    "Basic Operations\n",
    "1. Insertion\n",
    "Add a node at the beginning, end, or a specific position.\n",
    "2. Deletion\n",
    "Remove a node from the beginning, end, or a specific position.\n",
    "3. Traversal\n",
    "Visit each node and perform operations on its data.\n",
    "4. Search\n",
    "Find if a value exists in the list."
   ]
  },
  {
   "cell_type": "code",
   "execution_count": null,
   "metadata": {},
   "outputs": [],
   "source": [
    "class Node:\n",
    "    def __init__(self,item):\n",
    "        self.item = item \n",
    "        self.next = None\n",
    "node1 =Node(1)\n",
    "\n"
   ]
  },
  {
   "cell_type": "code",
   "execution_count": 11,
   "metadata": {},
   "outputs": [],
   "source": [
    "node2=Node(2)\n",
    "node3=Node(3)"
   ]
  },
  {
   "cell_type": "code",
   "execution_count": 15,
   "metadata": {},
   "outputs": [
    {
     "name": "stdout",
     "output_type": "stream",
     "text": [
      "1\n",
      "2\n",
      "3\n"
     ]
    }
   ],
   "source": [
    "print(node1.item)\n",
    "print(node2.item)\n",
    "print(node3.item)\n"
   ]
  },
  {
   "cell_type": "code",
   "execution_count": 17,
   "metadata": {},
   "outputs": [
    {
     "data": {
      "text/plain": [
       "(1887026476624, 1887027543504, 1887027543376)"
      ]
     },
     "execution_count": 17,
     "metadata": {},
     "output_type": "execute_result"
    }
   ],
   "source": [
    "id(node1) ,id(node2),id(node3)"
   ]
  },
  {
   "cell_type": "code",
   "execution_count": 18,
   "metadata": {},
   "outputs": [],
   "source": [
    "node1.next=node2\n",
    "node2.next=node3"
   ]
  },
  {
   "cell_type": "code",
   "execution_count": 60,
   "metadata": {},
   "outputs": [
    {
     "name": "stdout",
     "output_type": "stream",
     "text": [
      "2\n"
     ]
    },
    {
     "data": {
      "text/plain": [
       "'10-->9-->8-->7-->6-->5-->4-->3-->2-->1'"
      ]
     },
     "execution_count": 60,
     "metadata": {},
     "output_type": "execute_result"
    }
   ],
   "source": [
    "class Node:\n",
    "    def __init__(self,item):\n",
    "        self.item = item \n",
    "        self.next = None\n",
    "# node1 =Node(1)\n",
    "\n",
    "\n",
    "class Linkedlist:\n",
    "    def __init__(self):\n",
    "        self.head = None\n",
    "        self.n = 0 # n is determine the total node in a linkedlist \n",
    "\n",
    "\n",
    "\n",
    "    def __len__(self):\n",
    "        return self.n\n",
    "    def __insertat_head___(self,newnode ):\n",
    "        newnode=Node(newnode)\n",
    "        newnode.next= self.head\n",
    "        self.head= newnode\n",
    "        self.n = self.n +1\n",
    "\n",
    "\n",
    "\n",
    "\n",
    "\n",
    "\n",
    "\n",
    "    def insert_tail(self,value):\n",
    "        temp = self.head\n",
    "        while temp.next !=None:\n",
    "            newnode=Node(value)\n",
    "            temp = temp.next\n",
    "        temp.next = newnode\n",
    "            \n",
    "            # newnode=self.head  \n",
    "        # inserttail=self.__str__()\n",
    "\n",
    "\n",
    "\n",
    "\n",
    "    def insert_at_any_position(self , pos , value ):\n",
    "        temp = self.head\n",
    "        while temp !=None:\n",
    "            if temp.item == pos:\n",
    "                break\n",
    "            temp =temp.next\n",
    "\n",
    "        # print(temp.item)\n",
    "\n",
    "        new_node=Node(value)\n",
    "            # # temp = temp.next\n",
    "            #     new_node.next= temp.next\n",
    "            #     temp.item = new_node\n",
    "         \n",
    "\n",
    "\n",
    "\n",
    "\n",
    "\n",
    "    def __str__(self):\n",
    "        temp=self.head\n",
    "        result = ''\n",
    "        while temp !=None:\n",
    "            result = result +str(temp.item)+'-->'\n",
    "            # print(temp.item)\n",
    "            temp=temp.next\n",
    "        return result[:-3]\n",
    "\n",
    "\n",
    "l=Linkedlist()\n",
    "# print(l.__len__())\n",
    "l.__insertat_head___(1)\n",
    "l.__insertat_head___(2)\n",
    "l.__insertat_head___(3)\n",
    "l.__insertat_head___(4)\n",
    "l.__insertat_head___(5)\n",
    "l.__insertat_head___(6)\n",
    "l.__insertat_head___(7)\n",
    "l.__insertat_head___(8)\n",
    "l.__insertat_head___(9)\n",
    "l.__insertat_head___(10)\n",
    "# l.__insertat_head___(0)\n",
    "# l.insert_tail(12)\n",
    "l.insert_at_any_position(pos=2,value=111)\n",
    "\n",
    "l.__str__()\n"
   ]
  },
  {
   "cell_type": "code",
   "execution_count": 26,
   "metadata": {},
   "outputs": [
    {
     "data": {
      "text/plain": [
       "2"
      ]
     },
     "execution_count": 26,
     "metadata": {},
     "output_type": "execute_result"
    }
   ],
   "source": []
  },
  {
   "cell_type": "code",
   "execution_count": null,
   "metadata": {},
   "outputs": [],
   "source": []
  }
 ],
 "metadata": {
  "kernelspec": {
   "display_name": "Python 3",
   "language": "python",
   "name": "python3"
  },
  "language_info": {
   "codemirror_mode": {
    "name": "ipython",
    "version": 3
   },
   "file_extension": ".py",
   "mimetype": "text/x-python",
   "name": "python",
   "nbconvert_exporter": "python",
   "pygments_lexer": "ipython3",
   "version": "3.11.5"
  }
 },
 "nbformat": 4,
 "nbformat_minor": 2
}
